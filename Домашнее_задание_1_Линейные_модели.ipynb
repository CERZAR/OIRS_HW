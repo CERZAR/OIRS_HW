{
 "cells": [
  {
   "cell_type": "markdown",
   "metadata": {
    "id": "ob7zZxZ2W0Np"
   },
   "source": [
    " # Домашнее задание 1. Линейные модели"
   ]
  },
  {
   "cell_type": "markdown",
   "metadata": {
    "id": "vUPbnxUaWtTn"
   },
   "source": [
    "### Фамилия Имя Группа\n",
    "Ставропольцев Артём ИУ8-83"
   ]
  },
  {
   "cell_type": "markdown",
   "metadata": {
    "id": "Yhi_UjnwGeN-"
   },
   "source": [
    "В зависимости от варианта, для решения задачи используйте следующие наборы данных:\n",
    "\n",
    "<table>\n",
    "    <thead>\n",
    "         <tr>\n",
    "            <th colspan=1>Задача классификации</th>\n",
    "            <th colspan=5>Задача регрессии</th>\n",
    "        </tr>\n",
    "        <tr>\n",
    "            <th> </th>\n",
    "            <th>A</th>\n",
    "            <th><font color=\"#008000\">B</font></th>\n",
    "            <th>C</th>\n",
    "            <th>D</th>\n",
    "            <th>E</th>\n",
    "        </tr>\n",
    "    </thead>\n",
    "    <tbody>\n",
    "        <tr>\n",
    "            <td>K</td>\n",
    "            <td>1</td>\n",
    "            <td>2</td>\n",
    "            <td>3</td>\n",
    "            <td>4</td>\n",
    "            <td>5</td>\n",
    "        </tr>\n",
    "        <tr>\n",
    "            <td>L</td>\n",
    "            <td>6</td>\n",
    "            <td>7</td>\n",
    "            <td>8</td>\n",
    "            <td>9</td>\n",
    "            <td>10</td>\n",
    "        </tr>\n",
    "        <tr>\n",
    "            <td><font color=\"#008000\">M</font></td>\n",
    "            <td>11</td>\n",
    "            <td><font color=\"#008000\">12</font></td>\n",
    "            <td>13</td>\n",
    "            <td>14</td>\n",
    "            <td>15</td>\n",
    "        </tr>\n",
    "        <tr>\n",
    "            <td>N</td>\n",
    "            <td>16</td>\n",
    "            <td>17</td>\n",
    "            <td>18</td>\n",
    "            <td>19</td>\n",
    "            <td>20</td>\n",
    "        </tr>\n",
    "        <tr>\n",
    "            <td>O</td>\n",
    "            <td>21</td>\n",
    "            <td>22</td>\n",
    "            <td>23</td>\n",
    "            <td>24</td>\n",
    "            <td>25</td>\n",
    "        </tr>\n",
    "    </tbody>\n",
    "</table>"
   ]
  },
  {
   "cell_type": "markdown",
   "metadata": {
    "id": "tPE-QsRUCGjY"
   },
   "source": [
    "### Наборы данных\n",
    "\n",
    "**Задача регрессии**\n",
    "\n",
    "A. [Набор данных](https://www.kaggle.com/aungpyaeap/fish-market) Таблица `Fish.csv`. Задача: построить модель, предсказывающую вес рыбы (колонка `Weight`). Baseline: RMSE (root mean square error) = 83.7\n",
    "\n",
    "B. [Набор данных](https://www.kaggle.com/nehalbirla/vehicle-dataset-from-cardekho) Таблица `Car details v3.csv`. Задача: построить модель, предсказывающую стоимость автомобиля (колонка `selling_price`). Baseline: RMSE (root mean square error) = 110000\n",
    "\n",
    "C. [Набор данных](https://www.kaggle.com/quantbruce/real-estate-price-prediction) Таблица `Real estate.csv`. Задача: построить модель, предсказывающую стоимость квадратного метра жилья (колонка `Y house price of unit area`). Baseline: RMSE (root mean square error) = 8\n",
    "\n",
    "D. [Набор данных](https://www.kaggle.com/mirichoi0218/insurance) Таблица `insurance.csv`. Задача: построить модель, предсказывающую стоимость медицинской страховки (колонка `charges`). Baseline: RMSE (root mean square error) = 5800\n",
    "\n",
    "E. [Набор данных](https://archive.ics.uci.edu/ml/machine-learning-databases/wine-quality/) Объединить таблицы `winequality-white.csv` и `winequality-red.csv`. Задача: построить модель, предсказывающую качество вина (колонка `quality`). Baseline: RMSE (root mean square error) = 0.8\n",
    "\n",
    "\n",
    "---\n",
    "\n",
    "**Задача классификации**\n",
    "\n",
    "K. [Набор данных](https://www.kaggle.com/c/jigsaw-toxic-comment-classification-challenge/data) Таблица `train.csv`. Задача: детектировать токсичные комментарии (0 или 1 в колонке `toxic`) исключительно по содержимому комментария (колонка `comment_text`). Baseline: sklearn.metrics.f1_score(average='macro') по колонке `toxic` = 0.86\n",
    "\n",
    "L. [Набор данных](https://www.kaggle.com/pavansubhasht/ibm-hr-analytics-attrition-dataset) Таблица `WA_Fn-UseC_-HR-Employee-Attrition.csv`. Задача: предсказать увольнение сотрудника (колонка `attrition`). Baseline: sklearn.metrics.f1_score(average='macro') = 0.70\n",
    "\n",
    "M. [Набор данных](https://www.kaggle.com/uciml/sms-spam-collection-dataset) Таблица `spam.csv` (при загрузку датасета в питоне использовать кодировку encoding='latin-1'). Задача: детектировать, является ли СМС-сообщение спамом. Baseline: sklearn.metrics.f1_score(average='macro') = 0.95\n",
    "\n",
    "N. [Набор данных](https://www.kaggle.com/uciml/pima-indians-diabetes-database) Таблица `diabetes.csv`. Задача: детектировать, есть ли у человека диабет. Baseline: sklearn.metrics.f1_score(average='macro') = 0.73\n",
    "\n",
    "O. [Набор данных](https://www.kaggle.com/fedesoriano/stroke-prediction-dataset) Таблица `healthcare-dataset-stroke-data.csv`. Задача: детектировать, был ли у человека инсульт. Baseline: sklearn.metrics.f1_score(average='macro') = 0.56\n"
   ]
  },
  {
   "cell_type": "code",
   "execution_count": null,
   "metadata": {
    "id": "QsZRexnkup9T"
   },
   "outputs": [],
   "source": []
  },
  {
   "cell_type": "code",
   "execution_count": null,
   "metadata": {
    "id": "O8qkC4BAuqXl"
   },
   "outputs": [],
   "source": []
  },
  {
   "cell_type": "markdown",
   "metadata": {
    "id": "eTQftz5yJ0Qf"
   },
   "source": [
    "# 0. Инициализация ноутбука\n",
    "\n",
    "Загрузка необходимых библиотек"
   ]
  },
  {
   "cell_type": "code",
   "execution_count": 11,
   "metadata": {
    "id": "3MGNvut_Jnd3"
   },
   "outputs": [],
   "source": [
    "import numpy as np\n",
    "import pandas as pd\n",
    "import matplotlib.pyplot as plt\n",
    "import seaborn as sns\n",
    "from sklearn.model_selection import train_test_split\n",
    "from sklearn.linear_model import LinearRegression, Ridge, Lasso\n",
    "from sklearn.metrics import mean_squared_error as RMSE"
   ]
  },
  {
   "cell_type": "markdown",
   "metadata": {
    "id": "-L4jbO78B-kv"
   },
   "source": [
    "# 1. Задача регресссии (9 баллов)\n",
    "\n",
    "Постройте модель машинного обучения, решающую задачу регресии на вашем наборе данных. Задание считается выполненным, если соответствующая оценка качества на тестовой выборке >= baseline."
   ]
  },
  {
   "cell_type": "markdown",
   "metadata": {
    "id": "eKbd7LAqCFSj"
   },
   "source": [
    "## 1.1 Загрузка данных\n",
    "\n",
    "Загрузите данные в датафрейм при помощи функции `read_csv` блиблиотеки pandas"
   ]
  },
  {
   "cell_type": "code",
   "execution_count": 15,
   "metadata": {
    "id": "UJhaFPwm0KTf"
   },
   "outputs": [
    {
     "data": {
      "text/html": [
       "<div>\n",
       "<style scoped>\n",
       "    .dataframe tbody tr th:only-of-type {\n",
       "        vertical-align: middle;\n",
       "    }\n",
       "\n",
       "    .dataframe tbody tr th {\n",
       "        vertical-align: top;\n",
       "    }\n",
       "\n",
       "    .dataframe thead th {\n",
       "        text-align: right;\n",
       "    }\n",
       "</style>\n",
       "<table border=\"1\" class=\"dataframe\">\n",
       "  <thead>\n",
       "    <tr style=\"text-align: right;\">\n",
       "      <th></th>\n",
       "      <th>name</th>\n",
       "      <th>year</th>\n",
       "      <th>selling_price</th>\n",
       "      <th>km_driven</th>\n",
       "      <th>fuel</th>\n",
       "      <th>seller_type</th>\n",
       "      <th>transmission</th>\n",
       "      <th>owner</th>\n",
       "      <th>mileage</th>\n",
       "      <th>engine</th>\n",
       "      <th>max_power</th>\n",
       "      <th>torque</th>\n",
       "      <th>seats</th>\n",
       "    </tr>\n",
       "  </thead>\n",
       "  <tbody>\n",
       "    <tr>\n",
       "      <th>0</th>\n",
       "      <td>Maruti Swift Dzire VDI</td>\n",
       "      <td>2014</td>\n",
       "      <td>450000</td>\n",
       "      <td>145500</td>\n",
       "      <td>Diesel</td>\n",
       "      <td>Individual</td>\n",
       "      <td>Manual</td>\n",
       "      <td>First Owner</td>\n",
       "      <td>23.4 kmpl</td>\n",
       "      <td>1248 CC</td>\n",
       "      <td>74 bhp</td>\n",
       "      <td>190Nm@ 2000rpm</td>\n",
       "      <td>5.0</td>\n",
       "    </tr>\n",
       "    <tr>\n",
       "      <th>1</th>\n",
       "      <td>Skoda Rapid 1.5 TDI Ambition</td>\n",
       "      <td>2014</td>\n",
       "      <td>370000</td>\n",
       "      <td>120000</td>\n",
       "      <td>Diesel</td>\n",
       "      <td>Individual</td>\n",
       "      <td>Manual</td>\n",
       "      <td>Second Owner</td>\n",
       "      <td>21.14 kmpl</td>\n",
       "      <td>1498 CC</td>\n",
       "      <td>103.52 bhp</td>\n",
       "      <td>250Nm@ 1500-2500rpm</td>\n",
       "      <td>5.0</td>\n",
       "    </tr>\n",
       "    <tr>\n",
       "      <th>2</th>\n",
       "      <td>Honda City 2017-2020 EXi</td>\n",
       "      <td>2006</td>\n",
       "      <td>158000</td>\n",
       "      <td>140000</td>\n",
       "      <td>Petrol</td>\n",
       "      <td>Individual</td>\n",
       "      <td>Manual</td>\n",
       "      <td>Third Owner</td>\n",
       "      <td>17.7 kmpl</td>\n",
       "      <td>1497 CC</td>\n",
       "      <td>78 bhp</td>\n",
       "      <td>12.7@ 2,700(kgm@ rpm)</td>\n",
       "      <td>5.0</td>\n",
       "    </tr>\n",
       "    <tr>\n",
       "      <th>3</th>\n",
       "      <td>Hyundai i20 Sportz Diesel</td>\n",
       "      <td>2010</td>\n",
       "      <td>225000</td>\n",
       "      <td>127000</td>\n",
       "      <td>Diesel</td>\n",
       "      <td>Individual</td>\n",
       "      <td>Manual</td>\n",
       "      <td>First Owner</td>\n",
       "      <td>23.0 kmpl</td>\n",
       "      <td>1396 CC</td>\n",
       "      <td>90 bhp</td>\n",
       "      <td>22.4 kgm at 1750-2750rpm</td>\n",
       "      <td>5.0</td>\n",
       "    </tr>\n",
       "    <tr>\n",
       "      <th>4</th>\n",
       "      <td>Maruti Swift VXI BSIII</td>\n",
       "      <td>2007</td>\n",
       "      <td>130000</td>\n",
       "      <td>120000</td>\n",
       "      <td>Petrol</td>\n",
       "      <td>Individual</td>\n",
       "      <td>Manual</td>\n",
       "      <td>First Owner</td>\n",
       "      <td>16.1 kmpl</td>\n",
       "      <td>1298 CC</td>\n",
       "      <td>88.2 bhp</td>\n",
       "      <td>11.5@ 4,500(kgm@ rpm)</td>\n",
       "      <td>5.0</td>\n",
       "    </tr>\n",
       "  </tbody>\n",
       "</table>\n",
       "</div>"
      ],
      "text/plain": [
       "                           name  year  selling_price  km_driven    fuel  \\\n",
       "0        Maruti Swift Dzire VDI  2014         450000     145500  Diesel   \n",
       "1  Skoda Rapid 1.5 TDI Ambition  2014         370000     120000  Diesel   \n",
       "2      Honda City 2017-2020 EXi  2006         158000     140000  Petrol   \n",
       "3     Hyundai i20 Sportz Diesel  2010         225000     127000  Diesel   \n",
       "4        Maruti Swift VXI BSIII  2007         130000     120000  Petrol   \n",
       "\n",
       "  seller_type transmission         owner     mileage   engine   max_power  \\\n",
       "0  Individual       Manual   First Owner   23.4 kmpl  1248 CC      74 bhp   \n",
       "1  Individual       Manual  Second Owner  21.14 kmpl  1498 CC  103.52 bhp   \n",
       "2  Individual       Manual   Third Owner   17.7 kmpl  1497 CC      78 bhp   \n",
       "3  Individual       Manual   First Owner   23.0 kmpl  1396 CC      90 bhp   \n",
       "4  Individual       Manual   First Owner   16.1 kmpl  1298 CC    88.2 bhp   \n",
       "\n",
       "                     torque  seats  \n",
       "0            190Nm@ 2000rpm    5.0  \n",
       "1       250Nm@ 1500-2500rpm    5.0  \n",
       "2     12.7@ 2,700(kgm@ rpm)    5.0  \n",
       "3  22.4 kgm at 1750-2750rpm    5.0  \n",
       "4     11.5@ 4,500(kgm@ rpm)    5.0  "
      ]
     },
     "execution_count": 15,
     "metadata": {},
     "output_type": "execute_result"
    }
   ],
   "source": [
    "BASELINE = 110000\n",
    "data = pd.read_csv('./data/Car details v3.csv')\n",
    "data.head()"
   ]
  },
  {
   "cell_type": "code",
   "execution_count": 16,
   "metadata": {},
   "outputs": [
    {
     "name": "stdout",
     "output_type": "stream",
     "text": [
      "Row count is: 8128\n"
     ]
    }
   ],
   "source": [
    "print('Row count is:',len(data.axes[0]))"
   ]
  },
  {
   "cell_type": "code",
   "execution_count": 3,
   "metadata": {},
   "outputs": [
    {
     "data": {
      "text/plain": [
       "name             False\n",
       "year             False\n",
       "selling_price    False\n",
       "km_driven        False\n",
       "fuel             False\n",
       "seller_type      False\n",
       "transmission     False\n",
       "owner            False\n",
       "mileage           True\n",
       "engine            True\n",
       "max_power         True\n",
       "torque            True\n",
       "seats             True\n",
       "dtype: bool"
      ]
     },
     "execution_count": 3,
     "metadata": {},
     "output_type": "execute_result"
    }
   ],
   "source": [
    "pd.isnull(data).any()"
   ]
  },
  {
   "cell_type": "code",
   "execution_count": 4,
   "metadata": {},
   "outputs": [
    {
     "data": {
      "text/plain": [
       "name             False\n",
       "year             False\n",
       "selling_price    False\n",
       "km_driven        False\n",
       "fuel             False\n",
       "seller_type      False\n",
       "transmission     False\n",
       "owner            False\n",
       "mileage          False\n",
       "engine           False\n",
       "max_power        False\n",
       "torque           False\n",
       "seats            False\n",
       "dtype: bool"
      ]
     },
     "execution_count": 4,
     "metadata": {},
     "output_type": "execute_result"
    }
   ],
   "source": [
    "correct_data = data.dropna()\n",
    "pd.isnull(correct_data).any()"
   ]
  },
  {
   "cell_type": "code",
   "execution_count": 17,
   "metadata": {},
   "outputs": [
    {
     "name": "stdout",
     "output_type": "stream",
     "text": [
      "Row count is: 7906\n"
     ]
    }
   ],
   "source": [
    "print('Row count is:',len(correct_data.axes[0]))"
   ]
  },
  {
   "cell_type": "markdown",
   "metadata": {
    "id": "tQ_ZBqyRCYZC"
   },
   "source": [
    "## 1.2 График совместного распределения признаков\n",
    "\n",
    "\n",
    "Постройте график совместного распределения количественных признаков при помощи функции pairplot библиотеки seaborn"
   ]
  },
  {
   "cell_type": "code",
   "execution_count": 5,
   "metadata": {
    "id": "hTASV_TJCT4g"
   },
   "outputs": [
    {
     "data": {
      "text/plain": [
       "<seaborn.axisgrid.PairGrid at 0x277891a7c10>"
      ]
     },
     "execution_count": 5,
     "metadata": {},
     "output_type": "execute_result"
    },
    {
     "data": {
      "image/png": "[encoded data removed]",
      "text/plain": [
       "<Figure size 720x720 with 20 Axes>"
      ]
     },
     "metadata": {
      "needs_background": "light"
     },
     "output_type": "display_data"
    }
   ],
   "source": [
    "sns.pairplot(correct_data)"
   ]
  },
  {
   "cell_type": "markdown",
   "metadata": {
    "id": "Uf5huLhWDAAs"
   },
   "source": [
    "## 1.3 Разделение набора данных на тренировочный и тестовый\n",
    "\n",
    "Разделите набор данных на тренировочный и тестовый в соотношении 80%/20% при помощи функции train_test_split библиотеки sklearn.model_selection. При необходимости категориальные признаки в числовые (например, при помощи функции get_dummies библиотеки pandas)."
   ]
  },
  {
   "cell_type": "code",
   "execution_count": 6,
   "metadata": {
    "id": "m4TFkOgJOKVx"
   },
   "outputs": [],
   "source": [
    "train_data, test_data = train_test_split(pd.get_dummies(correct_data),\n",
    "                                         train_size=0.8,\n",
    "                                         test_size=0.2)"
   ]
  },
  {
   "cell_type": "markdown",
   "metadata": {
    "id": "47br_pClCv7K"
   },
   "source": [
    "## 1.4 OLS regression\n",
    "\n",
    "Обучить модель линейной регрессии методом наименьших квадратов (ordinary least squares linear regression), импортировав класс `LinearRegression` из библиотеки `sklearn.linear_model`. Оцените ошибку вашей модели при помощи метрики RMSE. Посмотрите, как влияет исключение из набора данных выбросов (экстремальных значений, например, больше 95 квантиля) на оценку ошибки.\n",
    "\n"
   ]
  },
  {
   "cell_type": "code",
   "execution_count": 7,
   "metadata": {
    "id": "4uxuHscFEaDD"
   },
   "outputs": [],
   "source": [
    "droped_train_data = train_data.drop(columns='selling_price')\n",
    "droped_test_data = test_data.drop(columns='selling_price')"
   ]
  },
  {
   "cell_type": "code",
   "execution_count": 8,
   "metadata": {},
   "outputs": [
    {
     "data": {
      "text/plain": [
       "LinearRegression()"
      ]
     },
     "execution_count": 8,
     "metadata": {},
     "output_type": "execute_result"
    }
   ],
   "source": [
    "regression = LinearRegression()\n",
    "regression.fit(droped_train_data, train_data.selling_price)"
   ]
  },
  {
   "cell_type": "code",
   "execution_count": 13,
   "metadata": {},
   "outputs": [
    {
     "name": "stdout",
     "output_type": "stream",
     "text": [
      "Score: 0.9602567403838722\n",
      "Error: 167824.6347510216\n",
      "Baseline check: False\n"
     ]
    }
   ],
   "source": [
    "s = regression.score(droped_test_data, test_data.selling_price)\n",
    "m = RMSE(test_data.selling_price, regression.predict(droped_test_data), squared=False)\n",
    "\n",
    "print(f'Score: {s}')\n",
    "print(f'Error: {m}')\n",
    "print(f'Baseline check: {m < BASELINE}')"
   ]
  },
  {
   "cell_type": "code",
   "execution_count": null,
   "metadata": {},
   "outputs": [],
   "source": []
  },
  {
   "cell_type": "markdown",
   "metadata": {
    "id": "XjP6TDE_C9BQ"
   },
   "source": [
    "## 1.5 Ridge regression\n",
    "\n",
    "Обучить модель линейной регрессии с $L_2$-регуляризацией (Гребневая регрессия, Ridge regression), импортировав класс `Ridge` из библиотеки `sklearn.linear_model`. Оцените ошибку вашей модели при помощи метрики RMSE\n"
   ]
  },
  {
   "cell_type": "code",
   "execution_count": null,
   "metadata": {
    "id": "J-jt6LkLEapV"
   },
   "outputs": [],
   "source": []
  },
  {
   "cell_type": "markdown",
   "metadata": {
    "id": "ZznS1COIC9D1"
   },
   "source": [
    "## 1.6 Lasso regression\n",
    "\n",
    "Обучить модель линейной регрессии с $L_1$-регуляризацией (Lasso regression), импортировав класс `Lasso` из библиотеки `sklearn.linear_model`. Оцените ошибку вашей модели при помощи метрики RMSE"
   ]
  },
  {
   "cell_type": "code",
   "execution_count": null,
   "metadata": {
    "id": "vjbsj9YDE_z6",
    "pycharm": {
     "is_executing": true
    }
   },
   "outputs": [],
   "source": []
  },
  {
   "cell_type": "markdown",
   "metadata": {
    "id": "cKzqNRmuE8Q8"
   },
   "source": [
    "## 1.7 Оптимизация Ridge regression\n",
    "\n",
    "Сделайте перебор в цикле гиперпараметра `alpha` для модели `Ridge` от 0 до 1 с шагом 0.05. Постройте график ошибки RMSE на тестовых данных в зависимости от гиперпараметра `alpha`"
   ]
  },
  {
   "cell_type": "code",
   "execution_count": null,
   "metadata": {
    "id": "HN-dRkhqFBoX"
   },
   "outputs": [],
   "source": []
  },
  {
   "cell_type": "markdown",
   "metadata": {
    "id": "KPku-PN3Edbc"
   },
   "source": [
    "## 1.8 Вывод\n",
    "\n",
    "Сравните качество (величину ошибки) для моделей из пп. 1.4-1.7. Какая модель показала наилучший результат?"
   ]
  },
  {
   "cell_type": "markdown",
   "metadata": {
    "id": "sMdiNzk-MFL8"
   },
   "source": [
    "Ваш ответ:"
   ]
  },
  {
   "cell_type": "markdown",
   "metadata": {
    "id": "6LnSFtGFCCUU"
   },
   "source": [
    "# 2. Задача классификации (9 баллов)\n",
    "\n",
    "Постройте модель машинного обучения, решающую задачу классификации на вашем наборе данных. Задание считается выполненным, если соответствующая оценка качества на тестовой выборке >= baseline."
   ]
  },
  {
   "cell_type": "markdown",
   "metadata": {
    "id": "YYsBIcEgV_K5"
   },
   "source": [
    "## 2.1 Загрузка данных\n",
    "\n",
    "Загрузите данные в датафрейм при помощи функции `read_csv` блиблиотеки `pandas`"
   ]
  },
  {
   "cell_type": "code",
   "execution_count": null,
   "metadata": {
    "id": "-rsk-UpEMndr"
   },
   "outputs": [],
   "source": []
  },
  {
   "cell_type": "markdown",
   "metadata": {
    "id": "zzQUGxgEV_K6"
   },
   "source": [
    "## 2.2 Разделение набора данных на тренировочный и тестовый\n",
    "\n",
    "Разделите набор данных на тренировочный и тестовый при помощи функции `train_test_split` библиотеки ???"
   ]
  },
  {
   "cell_type": "code",
   "execution_count": null,
   "metadata": {
    "id": "bqm2X5sQMB7f"
   },
   "outputs": [],
   "source": []
  },
  {
   "cell_type": "markdown",
   "metadata": {
    "id": "aWCEpEfqN3sh"
   },
   "source": [
    "## 2.3 Предобработка данных\n",
    "\n",
    "Проведите необходимую предобработку (перенормировку, выделение главных компонент и т.д.) данных. Приведите данные к такому виду, чтобы их можно было использовать для обучения моделей."
   ]
  },
  {
   "cell_type": "code",
   "execution_count": null,
   "metadata": {
    "id": "Gt9I4frj77rI"
   },
   "outputs": [],
   "source": []
  },
  {
   "cell_type": "markdown",
   "metadata": {
    "id": "6ZY0qcwAWCRl"
   },
   "source": [
    "## 2.4 Логистическая регрессия\n",
    "Обучите модель логистической регрессии, используя стандартную реализацию sklearn.linear_model.LogisticRegression. Оцените метрики качества полученной модели при помощи sklearn.metrics.classification_report и sklearn.metrics.f1_score."
   ]
  },
  {
   "cell_type": "code",
   "execution_count": null,
   "metadata": {
    "id": "1ZuWI2yFUENe"
   },
   "outputs": [],
   "source": []
  },
  {
   "cell_type": "markdown",
   "metadata": {
    "id": "ZguvQfjQbB7d"
   },
   "source": [
    "## 2.5 Подбор гиперпараметра регуляризации\n",
    "\n",
    "При помощи sklearn.model_selection.GridSearchCV переберите оптимальные параметры C в диапазоне 0.01 до 1 с шагом 0.1."
   ]
  },
  {
   "cell_type": "code",
   "execution_count": null,
   "metadata": {
    "id": "u7hufb2lWHiZ"
   },
   "outputs": [],
   "source": []
  },
  {
   "cell_type": "markdown",
   "metadata": {
    "id": "2DtdwkYVWYiH"
   },
   "source": [
    "## 2.6 Выводы\n",
    "\n",
    "Сравните качество (величину ошибки) для моделей из пп. 2.4-2.5. Какая модель показала наилучший результат?"
   ]
  },
  {
   "cell_type": "markdown",
   "metadata": {
    "id": "H6gLeRADWdF9"
   },
   "source": [
    "Ваш ответ: "
   ]
  },
  {
   "cell_type": "markdown",
   "metadata": {
    "id": "nJkkqKFODKJd"
   },
   "source": [
    "# 3. Самописная линейная регрессиия (3 балла)\n",
    "\n",
    "Релизовать алгоритм построения модели линейной регрессии методом стохастического градиентного спуска (stochastic gradient descent, SGD) при помощи библиотек numpy, pytorch или tensorflow."
   ]
  },
  {
   "cell_type": "code",
   "execution_count": null,
   "metadata": {
    "id": "GmXdvDfMDV2n"
   },
   "outputs": [],
   "source": [
    "class SGDLinearRegression:\n",
    "    def __init__(self, epsilon = 0.001):\n",
    "        self.w = None\n",
    "        self.bias = None\n",
    "        self.epsilon = epsilon\n",
    "        pass\n",
    "\n",
    "    def fit(self, X, y, iterations=500):\n",
    "        # Ваш код здесь\n",
    "        pass\n",
    "    \n",
    "    def predict(self, X):\n",
    "        # Ваш код здесь\n",
    "        pass\n"
   ]
  },
  {
   "cell_type": "markdown",
   "metadata": {
    "id": "id1LsNUzYFNZ"
   },
   "source": [
    "3.2 Обучите самописную модель. Воспользуйтесь sklearn.model_selection.GridSearchCV для подбора гипермапарметра (шага обновления градиента) epsilon среди `numpy.geomspace(0.0001, 1, num=13)`. Постройте график функции ошибки для epsilon `[0.0001, 0.001, 0.01, 0.1, 1]`."
   ]
  },
  {
   "cell_type": "code",
   "execution_count": null,
   "metadata": {
    "id": "oLA6lBpuYEyW"
   },
   "outputs": [],
   "source": []
  },
  {
   "cell_type": "markdown",
   "metadata": {
    "id": "AH04Y_uuJ-uL"
   },
   "source": [
    "3.3 Обучите модель на основе класса sklearn.linear_model.SGDRegressor с параметрами `alpha=0`. Сравните качество с вашими моделями из пункта 3.2."
   ]
  },
  {
   "cell_type": "code",
   "execution_count": null,
   "metadata": {
    "id": "dhscwqqZMQMB"
   },
   "outputs": [],
   "source": []
  },
  {
   "cell_type": "markdown",
   "metadata": {
    "id": "x2YrYqJHKbhn"
   },
   "source": [
    "Ваш вывод (2-3 предложения):"
   ]
  },
  {
   "cell_type": "markdown",
   "metadata": {
    "id": "ymPVCeWWJOU0"
   },
   "source": [
    "# 4. Самописная логистическая регрессиия (4 балла)\n",
    "\n",
    "Релизовать алгоритм построения модели логистической регрессии методом стохастического градиентного спуска (stochastic gradient descent, SGD) при помощи библиотек numpy, pytorch или tensorflow."
   ]
  },
  {
   "cell_type": "code",
   "execution_count": null,
   "metadata": {
    "id": "ynNyByt5Djfu"
   },
   "outputs": [],
   "source": [
    "class SGDLogisticRegression:\n",
    "    def __init__(self, epsilon = 0.001):\n",
    "        self.w = None\n",
    "        self.bias = None\n",
    "        self.epsilon = epsilon\n",
    "        pass\n",
    "\n",
    "    def sigmoid(self, a):\n",
    "        return  1. / (1. + np.exp(-1. * a))\n",
    "\n",
    "    def fit(self, X, y, iterations=500):\n",
    "        # Ваш код здесь\n",
    "        pass\n",
    "\n",
    "\n",
    "    def predict(self, X):\n",
    "        # Ваш код здесь\n",
    "        pass\n"
   ]
  },
  {
   "cell_type": "markdown",
   "metadata": {
    "id": "OMJmDxeWEXsA"
   },
   "source": [
    "4.2 Обучите самописную модель. Воспользуйтесь sklearn.model_selection.GridSearchCV для подбора гипермапарметра (шага обновления градиента) epsilon среди `numpy.geomspace(0.0001, 1, num=13)`. Постройте график функции ошибки для epsilon `[0.0001, 0.001, 0.01, 0.1, 1]`."
   ]
  },
  {
   "cell_type": "code",
   "execution_count": null,
   "metadata": {
    "id": "_dhcxRqxEXU9"
   },
   "outputs": [],
   "source": []
  },
  {
   "cell_type": "markdown",
   "metadata": {
    "id": "nRbKNb2OKYAl"
   },
   "source": [
    " 4.3 Обучите модель на основе класса sklearn.linear_model.SGDClassifier с параметрами `loss='log'`. Сравните качество с вашими моделями из пункта 4.2."
   ]
  },
  {
   "cell_type": "code",
   "execution_count": null,
   "metadata": {
    "id": "7tNOK9X_JaIg"
   },
   "outputs": [],
   "source": []
  },
  {
   "cell_type": "markdown",
   "metadata": {
    "id": "GjokaJAtKo8c"
   },
   "source": [
    "Ваш вывод (2-3 предложения):"
   ]
  },
  {
   "cell_type": "code",
   "execution_count": null,
   "metadata": {
    "id": "LloKO6sUHaLr"
   },
   "outputs": [],
   "source": []
  }
 ],
 "metadata": {
  "colab": {
   "collapsed_sections": [],
   "name": "Домашнее задание 1. Линейные модели.ipynb",
   "provenance": []
  },
  "kernelspec": {
   "display_name": "Python 3 (ipykernel)",
   "language": "python",
   "name": "python3"
  },
  "language_info": {
   "codemirror_mode": {
    "name": "ipython",
    "version": 3
   },
   "file_extension": ".py",
   "mimetype": "text/x-python",
   "name": "python",
   "nbconvert_exporter": "python",
   "pygments_lexer": "ipython3",
   "version": "3.10.4"
  }
 },
 "nbformat": 4,
 "nbformat_minor": 1
}