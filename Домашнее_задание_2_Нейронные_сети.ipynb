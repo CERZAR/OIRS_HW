{
  "nbformat": 4,
  "nbformat_minor": 0,
  "metadata": {
    "colab": {
      "name": " Домашнее задание 2. Нейронные сети.ipynb",
      "provenance": [],
      "collapsed_sections": []
    },
    "kernelspec": {
      "name": "python3",
      "display_name": "Python 3"
    },
    "language_info": {
      "name": "python"
    }
  },
  "cells": [
    {
      "cell_type": "markdown",
      "source": [
        "# Домашнее задание 2. Нейронные сети\n",
        "## Фамилия Имя Группа"
      ],
      "metadata": {
        "id": "7uLSt3vBI0zr"
      }
    },
    {
      "cell_type": "markdown",
      "source": [
        "В зависимости от варианта, для решения задачи используйте следующие наборы данных:\n",
        "\n",
        "<table>\n",
        "    <thead>\n",
        "         <tr>\n",
        "            <th colspan=1>Задача классификации</th>\n",
        "            <th colspan=5>Задача регрессии</th>\n",
        "        </tr>\n",
        "        <tr>\n",
        "            <th> </th>\n",
        "            <th>A</th>\n",
        "            <th>B</th>\n",
        "            <th>C</th>\n",
        "            <th>D</th>\n",
        "            <th>E</th>\n",
        "        </tr>\n",
        "    </thead>\n",
        "    <tbody>\n",
        "        <tr>\n",
        "            <td>K</td>\n",
        "            <td>1</td>\n",
        "            <td>2</td>\n",
        "            <td>3</td>\n",
        "            <td>4</td>\n",
        "            <td>5</td>\n",
        "        </tr>\n",
        "        <tr>\n",
        "            <td>L</td>\n",
        "            <td>6</td>\n",
        "            <td>7</td>\n",
        "            <td>8</td>\n",
        "            <td>9</td>\n",
        "            <td>10</td>\n",
        "        </tr>\n",
        "        <tr>\n",
        "            <td>M</td>\n",
        "            <td>11</td>\n",
        "            <td>12</td>\n",
        "            <td>13</td>\n",
        "            <td>14</td>\n",
        "            <td>15</td>\n",
        "        </tr>\n",
        "        <tr>\n",
        "            <td>N</td>\n",
        "            <td>16</td>\n",
        "            <td>17</td>\n",
        "            <td>18</td>\n",
        "            <td>19</td>\n",
        "            <td>20</td>\n",
        "        </tr>\n",
        "        <tr>\n",
        "            <td>O</td>\n",
        "            <td>21</td>\n",
        "            <td>22</td>\n",
        "            <td>23</td>\n",
        "            <td>24</td>\n",
        "            <td>25</td>\n",
        "        </tr>\n",
        "    </tbody>\n",
        "</table>\n",
        "\n",
        "### Наборы данных\n",
        "\n",
        "**Задача регрессии**\n",
        "\n",
        "A. [Набор данных](https://www.kaggle.com/aungpyaeap/fish-market) Таблица `Fish.csv`. Задача: построить модель, предсказывающую вес рыбы (колонка `Weight`). Baseline: RMSE (root mean square error) = 83.7\n",
        "\n",
        "B. [Набор данных](https://www.kaggle.com/nehalbirla/vehicle-dataset-from-cardekho) Таблица `Car details v3.csv`. Задача: построить модель, предсказывающую стоимость автомобиля (колонка `selling_price`). Baseline: RMSE (root mean square error) = 110000\n",
        "\n",
        "C. [Набор данных](https://www.kaggle.com/quantbruce/real-estate-price-prediction) Таблица `Real estate.csv`. Задача: построить модель, предсказывающую стоимость квадратного метра жилья (колонка `Y house price of unit area`). Baseline: RMSE (root mean square error) = 8\n",
        "\n",
        "D. [Набор данных](https://www.kaggle.com/mirichoi0218/insurance) Таблица `insurance.csv`. Задача: построить модель, предсказывающую стоимость медицинской страховки (колонка `charges`). Baseline: RMSE (root mean square error) = 5800\n",
        "\n",
        "E. [Набор данных](https://archive.ics.uci.edu/ml/machine-learning-databases/wine-quality/) Объединить таблицы `winequality-white.csv` и `winequality-red.csv`. Задача: построить модель, предсказывающую качество вина (колонка `quality`). Baseline: RMSE (root mean square error) = 0.8\n",
        "\n",
        "\n",
        "---\n",
        "\n",
        "**Задача классификации**\n",
        "\n",
        "K. [Набор данных](https://www.kaggle.com/c/jigsaw-toxic-comment-classification-challenge/data) Таблица `train.csv`. Задача: детектировать токсичные комментарии (0 или 1 в колонке `toxic`) исключительно по содержимому комментария (колонка `comment_text`). Baseline: sklearn.metrics.f1_score(average='macro') по колонке `toxic` = 0.86\n",
        "\n",
        "L. [Набор данных](https://www.kaggle.com/pavansubhasht/ibm-hr-analytics-attrition-dataset) Таблица `WA_Fn-UseC_-HR-Employee-Attrition.csv`. Задача: предсказать увольнение сотрудника (колонка `attrition`). Baseline: sklearn.metrics.f1_score(average='macro') = 0.70\n",
        "\n",
        "M. [Набор данных](https://www.kaggle.com/uciml/sms-spam-collection-dataset) Таблица `spam.csv` (при загрузку датасета в питоне использовать кодировку encoding='latin-1'). Задача: детектировать, является ли СМС-сообщение спамом. Baseline: sklearn.metrics.f1_score(average='macro') = 0.95\n",
        "\n",
        "N. [Набор данных](https://www.kaggle.com/uciml/pima-indians-diabetes-database) Таблица `diabetes.csv`. Задача: детектировать, есть ли у человека диабет. Baseline: sklearn.metrics.f1_score(average='macro') = 0.73\n",
        "\n",
        "O. [Набор данных](https://www.kaggle.com/fedesoriano/stroke-prediction-dataset) Таблица `healthcare-dataset-stroke-data.csv`. Задача: детектировать, был ли у человека инсульт. Baseline: sklearn.metrics.f1_score(average='macro') = 0.56\n"
      ],
      "metadata": {
        "id": "2JxNVonhRMgf"
      }
    },
    {
      "cell_type": "markdown",
      "source": [
        "# 0. Инициализация библиотек"
      ],
      "metadata": {
        "id": "zsqatIg_JBu7"
      }
    },
    {
      "cell_type": "code",
      "source": [
        "import pandas as pd\n",
        "import numpy as np\n",
        "\n",
        "import torch"
      ],
      "metadata": {
        "id": "WGZt4ftTJxg4"
      },
      "execution_count": null,
      "outputs": []
    },
    {
      "cell_type": "markdown",
      "source": [
        "# 1. Искусственная неронная сеть для решения задачи регрессии (9 баллов)"
      ],
      "metadata": {
        "id": "5oGgl1uGJBxH"
      }
    },
    {
      "cell_type": "markdown",
      "source": [
        "## 1.1 Загрузите данные, поделить на train и test\n",
        "\n"
      ],
      "metadata": {
        "id": "qV47VXssLKa9"
      }
    },
    {
      "cell_type": "code",
      "source": [
        ""
      ],
      "metadata": {
        "id": "XjIoB9zTKAY2"
      },
      "execution_count": null,
      "outputs": []
    },
    {
      "cell_type": "markdown",
      "source": [
        "## 1.2 По необходимости проведите преодбработку/нормализацию данных"
      ],
      "metadata": {
        "id": "MYWcgRrZSWfY"
      }
    },
    {
      "cell_type": "code",
      "source": [
        ""
      ],
      "metadata": {
        "id": "VzFWQfW9SWYc"
      },
      "execution_count": null,
      "outputs": []
    },
    {
      "cell_type": "markdown",
      "source": [
        "## 1.3 Попробуйте различное количество слоёв\n",
        "\n",
        "Обучите 4 модели, используя различное количество линейных слоёв: 1 (=линейная регрессия), 2, 3, 4. Между двумя линейными слоями должна быть фунция активации, например, сигмоида. На последнем слое функцию активации можно не использовать.\n",
        "\n",
        "Постройте: 1) график loss для train и test в зависимости от используемого количетсва слоёв; 2) график accuracy для train и test в зависимости от используемого количества слоёв."
      ],
      "metadata": {
        "id": "T7o0JR_2RxYI"
      }
    },
    {
      "cell_type": "code",
      "source": [
        ""
      ],
      "metadata": {
        "id": "lWqTXo-GRxLj"
      },
      "execution_count": null,
      "outputs": []
    },
    {
      "cell_type": "markdown",
      "source": [
        "## 1.4 Попробуйте различные функции активации\n",
        "\n",
        "Обучите 4 модели, используя 4 различных функции активации: sigmoid, tanh, ReLU, ELU. \n",
        "\n",
        "Постройте: 1) график loss для train и test в зависимости от используемой функции активации; 2) график accuracy для train и test в зависимости от используемой функции активации;"
      ],
      "metadata": {
        "id": "mpc9FHD7LWn1"
      }
    },
    {
      "cell_type": "code",
      "source": [
        ""
      ],
      "metadata": {
        "id": "fhIBevWiLeeY"
      },
      "execution_count": null,
      "outputs": []
    },
    {
      "cell_type": "markdown",
      "source": [
        "## 1.5 Попробуйте различные алгоритмы оптимизации\n",
        "\n",
        "Обучите 4 модели, используя 4 различных алгоритма оптимизации: SGD, SGD with momentum, RMSprop, Adam\n",
        "\n",
        "Постройте: 1) график loss для train и test в зависимости от используемого  алгоритма оптимизации; 2) график accuracy для train и test в зависимости от используемого  алгоритма оптимизации."
      ],
      "metadata": {
        "id": "DzgKq1-qLghm"
      }
    },
    {
      "cell_type": "code",
      "source": [
        ""
      ],
      "metadata": {
        "id": "hLwYrg7NLgIZ"
      },
      "execution_count": null,
      "outputs": []
    },
    {
      "cell_type": "markdown",
      "source": [
        "## 1.6 Попробуйте добавить dropout и batch norm\n",
        "\n",
        "Обучите 5 моделей, используя 5 различных конфигураций: только BatchNorm, только dropout 0.2, только dropout 0.5, BatchNorm + dropout 0.2, BatchNorm + dropout 0.5.\n",
        "\n",
        "Постройте: 1) график loss для train и test в зависимости от используемой конфигурации; 2) график accuracy для train и test в зависимости от используемой конфигурации."
      ],
      "metadata": {
        "id": "3QXFzDbOLZ7w"
      }
    },
    {
      "cell_type": "code",
      "source": [
        ""
      ],
      "metadata": {
        "id": "aUKil2VRLeIv"
      },
      "execution_count": null,
      "outputs": []
    },
    {
      "cell_type": "markdown",
      "source": [
        "## 1.7 Постройте финальную модель\n",
        "\n",
        "Используя информацию, полученную на предыдущих этапах, предложите оптимальную конфигурацию нейронной сети для вашей задачи. Обучите модель."
      ],
      "metadata": {
        "id": "SY7zNAyiOFOM"
      }
    },
    {
      "cell_type": "code",
      "source": [
        ""
      ],
      "metadata": {
        "id": "UT_e4iH5OEu9"
      },
      "execution_count": null,
      "outputs": []
    },
    {
      "cell_type": "markdown",
      "source": [
        "## 1.8 Выводы\n",
        "\n",
        "*Прекрасная жизнь начинается с ваших прекрасных мыслей:*"
      ],
      "metadata": {
        "id": "9ZNIdPjgOzjW"
      }
    },
    {
      "cell_type": "markdown",
      "source": [
        "# 2. Искусственная неронная сеть для решения задачи классификации (9 баллов)"
      ],
      "metadata": {
        "id": "Jy4QgfopJBzd"
      }
    },
    {
      "cell_type": "markdown",
      "source": [
        "## 2.1 Загрузите данные, поделить на train и test\n",
        "\n"
      ],
      "metadata": {
        "id": "To15w7xbTc2M"
      }
    },
    {
      "cell_type": "code",
      "source": [
        ""
      ],
      "metadata": {
        "id": "5EEi0iUFTc2M"
      },
      "execution_count": null,
      "outputs": []
    },
    {
      "cell_type": "markdown",
      "source": [
        "## 2.2 По необходимости проведите преодбработку/нормализацию данных"
      ],
      "metadata": {
        "id": "wmtslH2mTc2N"
      }
    },
    {
      "cell_type": "code",
      "source": [
        ""
      ],
      "metadata": {
        "id": "cg8jS0p0Tc2N"
      },
      "execution_count": null,
      "outputs": []
    },
    {
      "cell_type": "markdown",
      "source": [
        "## 2.3 Попробуйте различное количество слоёв\n",
        "\n",
        "Обучите 4 модели, используя различное количество линейных слоёв: 1 (=логистическая регрессия), 2, 3, 4. Между двумя линейными слоями должна быть фунция активации, например, сигмоида. На последнем слое в качестве функции активации используйте сигмоиду.\n",
        "\n",
        "Постройте: 1) график loss для train и test в зависимости от используемого количетсва слоёв; 2) график accuracy для train и test в зависимости от используемого количества слоёв."
      ],
      "metadata": {
        "id": "btEXeSAUTc2N"
      }
    },
    {
      "cell_type": "code",
      "source": [
        ""
      ],
      "metadata": {
        "id": "T2Qm3SpqTc2N"
      },
      "execution_count": null,
      "outputs": []
    },
    {
      "cell_type": "markdown",
      "source": [
        "## 2.4 Попробуйте различные функции активации\n",
        "\n",
        "Обучите 4 модели, используя 4 различных функции активации на промежуточных слоях: sigmoid, tanh, ReLU, ELU. На выходном слое в качестве функции активации используйте сигмоиду.\n",
        "\n",
        "Постройте: 1) график loss для train и test в зависимости от используемой функции активации; 2) график accuracy для train и test в зависимости от используемой функции активации;"
      ],
      "metadata": {
        "id": "XkGzw7o-Tc2O"
      }
    },
    {
      "cell_type": "code",
      "source": [
        ""
      ],
      "metadata": {
        "id": "9G7xxbgjTc2O"
      },
      "execution_count": null,
      "outputs": []
    },
    {
      "cell_type": "markdown",
      "source": [
        "## 2.5 Попробуйте различные алгоритмы оптимизации\n",
        "\n",
        "Обучите 4 модели, используя 4 различных алгоритма оптимизации: SGD, SGD with momentum, RMSprop, Adam\n",
        "\n",
        "Постройте: 1) график loss для train и test в зависимости от используемого  алгоритма оптимизации; 2) график accuracy для train и test в зависимости от используемого  алгоритма оптимизации."
      ],
      "metadata": {
        "id": "lRFVFDcqTc2O"
      }
    },
    {
      "cell_type": "code",
      "source": [
        ""
      ],
      "metadata": {
        "id": "OVXBQqYITc2O"
      },
      "execution_count": null,
      "outputs": []
    },
    {
      "cell_type": "markdown",
      "source": [
        "## 2.6 Попробуйте добавить dropout и batch norm\n",
        "\n",
        "Обучите 5 моделей, используя 5 различных конфигураций: только BatchNorm, только dropout 0.2, только dropout 0.5, BatchNorm + dropout 0.2, BatchNorm + dropout 0.5.\n",
        "\n",
        "Постройте: 1) график loss для train и test в зависимости от используемой конфигурации; 2) график accuracy для train и test в зависимости от используемой конфигурации."
      ],
      "metadata": {
        "id": "ihobg30TTc2O"
      }
    },
    {
      "cell_type": "code",
      "source": [
        ""
      ],
      "metadata": {
        "id": "GvAwr2BETc2P"
      },
      "execution_count": null,
      "outputs": []
    },
    {
      "cell_type": "markdown",
      "source": [
        "## 2.7 Постройте финальную модель\n",
        "\n",
        "Используя информацию, полученную на предыдущих этапах, предложите оптимальную конфигурацию нейронной сети для вашей задачи. Обучите модель."
      ],
      "metadata": {
        "id": "CYtBxIU-Tc2P"
      }
    },
    {
      "cell_type": "code",
      "source": [
        ""
      ],
      "metadata": {
        "id": "ccY4B2QTTiHs"
      },
      "execution_count": null,
      "outputs": []
    },
    {
      "cell_type": "markdown",
      "source": [
        "## 2.8 Выводы\n",
        "\n",
        "*Your beautiful thoughts:*"
      ],
      "metadata": {
        "id": "9YdprgXnTiST"
      }
    },
    {
      "cell_type": "code",
      "source": [
        ""
      ],
      "metadata": {
        "id": "Cl24iumEKXXd"
      },
      "execution_count": null,
      "outputs": []
    }
  ]
}