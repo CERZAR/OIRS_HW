{
 "cells": [
  {
   "cell_type": "markdown",
   "metadata": {
    "id": "7uLSt3vBI0zr"
   },
   "source": [
    "# Домашнее задание 3. Свёрточные и рекуррентные нейронные сети\n",
    "## Фамилия Имя Группа"
   ]
  },
  {
   "cell_type": "markdown",
   "metadata": {
    "id": "2JxNVonhRMgf"
   },
   "source": [
    "В зависимости от варианта, для решения задачи используйте следующие наборы данных:\n",
    "\n",
    "<table>\n",
    "    <thead>\n",
    "         <tr>\n",
    "            <th colspan=1>Задача генерации</th>\n",
    "            <th colspan=5>Задача классификации</th>\n",
    "        </tr>\n",
    "        <tr>\n",
    "            <th> </th>\n",
    "            <th>A</th>\n",
    "            <th>B</th>\n",
    "            <th>C</th>\n",
    "            <th>D</th>\n",
    "            <th>E</th>\n",
    "        </tr>\n",
    "    </thead>\n",
    "    <tbody>\n",
    "        <tr>\n",
    "            <td>K</td>\n",
    "            <td>1</td>\n",
    "            <td>2</td>\n",
    "            <td>3</td>\n",
    "            <td>4</td>\n",
    "            <td>5</td>\n",
    "        </tr>\n",
    "        <tr>\n",
    "            <td>L</td>\n",
    "            <td>6</td>\n",
    "            <td>7</td>\n",
    "            <td>8</td>\n",
    "            <td>9</td>\n",
    "            <td>10</td>\n",
    "        </tr>\n",
    "        <tr>\n",
    "            <td>M</td>\n",
    "            <td>11</td>\n",
    "            <td>12</td>\n",
    "            <td>13</td>\n",
    "            <td>14</td>\n",
    "            <td>15</td>\n",
    "        </tr>\n",
    "        <tr>\n",
    "            <td>N</td>\n",
    "            <td>16</td>\n",
    "            <td>17</td>\n",
    "            <td>18</td>\n",
    "            <td>19</td>\n",
    "            <td>20</td>\n",
    "        </tr>\n",
    "        <tr>\n",
    "            <td>O</td>\n",
    "            <td>21</td>\n",
    "            <td>22</td>\n",
    "            <td>23</td>\n",
    "            <td>24</td>\n",
    "            <td>25</td>\n",
    "        </tr>\n",
    "    </tbody>\n",
    "</table>\n",
    "\n",
    "### Наборы данных\n",
    "\n",
    "**Задача классификации картинок**\n",
    "\n",
    "A. [Набор данных \"Fashion MNIST\"](https://pytorch.org/vision/main/generated/torchvision.datasets.FashionMNIST.html) `torchvision.datasets.FashionMNIST train=True и False`\n",
    "\n",
    "B. [Набор данных \"Текстуры\"](https://pytorch.org/vision/main/generated/torchvision.datasets.DTD.html#torchvision.datasets.DTD) `torchvision.datasets.DTD split='train' и 'test'`\n",
    "\n",
    "C. [Набор данных \"Буквы\"](https://pytorch.org/vision/main/generated/torchvision.datasets.EMNIST.html#torchvision.datasets.EMNIST) `torchvision.datasets.EMNIST split=letters train=True и False`\n",
    "\n",
    "D. [Набор данных \"Кошки и собаки\"](https://pytorch.org/vision/main/generated/torchvision.datasets.OxfordIIITPet.html) `torchvision.datasets.OxfordIIITPet split = 'trainval' и 'test'` (объекты разбиты по породам (всего 37 пород), нужно построить бинарный классификатор собак и кошек)\n",
    "\n",
    "E. [Набор данных \"Дорожные знаки\"](https://pytorch.org/vision/main/generated/torchvision.datasets.GTSRB.html) `torchvision.datasets.GTSRB split = 'train' и 'test'`\n",
    "\n",
    "\n",
    "---\n",
    "\n",
    "**Задача генерации текстов**\n",
    "\n",
    "K. [Набор данных \"Евгений Онегин\"]() `onegin.txt`\n",
    "\n",
    "L. [Набор данных \"Война и Мир\"]() `war_and_piece.txt`\n",
    "\n",
    "M. [Набор данных \"Стихи\"]() `stihi.csv`\n",
    "\n",
    "N. [Набор данных \"Сказки\"]() `fairytales.txt`\n",
    "\n",
    "O. [Набор данных \"Новости\"]() `news.txt` или https://github.com/yutkin/Lenta.Ru-News-Dataset/releases"
   ]
  },
  {
   "cell_type": "markdown",
   "metadata": {
    "id": "zsqatIg_JBu7"
   },
   "source": [
    "# 0. Инициализация библиотек"
   ]
  },
  {
   "cell_type": "code",
   "execution_count": 1,
   "metadata": {
    "id": "WGZt4ftTJxg4"
   },
   "outputs": [],
   "source": [
    "import torch\n",
    "import torchvision\n",
    "\n",
    "import matplotlib.pyplot as plt\n",
    "import numpy as np\n",
    "import pandas as pd\n",
    "import imgaug as ia\n",
    "from imgaug import augmenters as iaa\n",
    "from sklearn.decomposition import PCA\n",
    "from sklearn.model_selection import train_test_split\n",
    "from sklearn.preprocessing import StandardScaler\n",
    "from torch import nn, optim\n",
    "from torch.utils.data import TensorDataset, DataLoader\n",
    "from torchvision import datasets, transforms\n",
    "from collections import Counter\n",
    "from torch.nn import functional as F"
   ]
  },
  {
   "cell_type": "markdown",
   "metadata": {
    "id": "5oGgl1uGJBxH"
   },
   "source": [
    "# 1. Свёрточная нейронная сеть для классификации изображений (9 баллов)"
   ]
  },
  {
   "cell_type": "markdown",
   "metadata": {
    "id": "qV47VXssLKa9"
   },
   "source": [
    "## 1.1 Загрузка данных, разделение на train и test\n",
    "\n",
    "Загрузите данные при помощи torchvision.datasets. Можете предусмотреть опредлённые транфсофрмации картинки, например, изменение размера до 128 px, кроп по центру в 196 px и преобразование к классу torch.Tensor:\n",
    "\n",
    "```\n",
    "import torchvision\n",
    "\n",
    "\n",
    "transform = torchvision.transforms.Compose([\n",
    "    # resize\n",
    "    torchvision.transforms.Resize(128),\n",
    "    torchvision.transforms.CenterCrop(196),\n",
    "    torchvision.transforms.ToTensor()\n",
    "])\n",
    "```"
   ]
  },
  {
   "cell_type": "code",
   "execution_count": 2,
   "metadata": {
    "id": "XjIoB9zTKAY2"
   },
   "outputs": [],
   "source": [
    "transform = transforms.Compose([\n",
    "    transforms.Resize(128),\n",
    "    transforms.CenterCrop(128),\n",
    "    transforms.ToTensor()\n",
    "])\n",
    "\n",
    "train_data = datasets.DTD('data',split = 'train', download=True, transform=transform)\n",
    "test_data = datasets.DTD('data',split = 'test', download=True, transform=transform)\n",
    "classes = train_data.classes"
   ]
  },
  {
   "cell_type": "code",
   "execution_count": 3,
   "metadata": {},
   "outputs": [],
   "source": [
    "SEED = 1000\n",
    "np.random.seed(SEED)\n",
    "ia.seed(SEED)\n",
    "torch.manual_seed(SEED)\n",
    "\n",
    "pd.set_option(\"display.max_columns\", None)\n",
    "\n",
    "BATCH=128"
   ]
  },
  {
   "cell_type": "code",
   "execution_count": 4,
   "metadata": {},
   "outputs": [],
   "source": [
    "train_loader = DataLoader(\n",
    "    train_data,\n",
    "    batch_size=BATCH,\n",
    "    shuffle=True\n",
    ")\n",
    "\n",
    "test_loader = DataLoader(\n",
    "    test_data,\n",
    "    batch_size=BATCH,\n",
    "    shuffle=False\n",
    ")"
   ]
  },
  {
   "cell_type": "markdown",
   "metadata": {
    "id": "MYWcgRrZSWfY"
   },
   "source": [
    "## 1.2 Предобработка данных (по необходимости)"
   ]
  },
  {
   "cell_type": "code",
   "execution_count": null,
   "metadata": {},
   "outputs": [],
   "source": []
  },
  {
   "cell_type": "markdown",
   "metadata": {
    "id": "tP7e_V16J9zV"
   },
   "source": [
    "## 1.3 Инициализация объекта свёрточной нейронной сети\n",
    "\n",
    "Создайте нейронную сеть с 2-4 свёрточными слоями. В остальном конфигурация сети может быть произвольной. "
   ]
  },
  {
   "cell_type": "code",
   "execution_count": 5,
   "metadata": {
    "id": "YcsgF13xhcEa"
   },
   "outputs": [],
   "source": [
    "class Network1(nn.Module):\n",
    "  def __init__(self):\n",
    "    super(Network1, self).__init__()\n",
    "    self.nureal_network = nn.Sequential()\n",
    "    self.nureal_network.add_module('c1', nn.Conv2d(3, 32, kernel_size = 3, padding = 1))\n",
    "    self.nureal_network.add_module('a1', nn.ReLU())\n",
    "    self.nureal_network.add_module('p1', nn.MaxPool2d(2,2))\n",
    "    self.nureal_network.add_module('c2', nn.Conv2d(32, 64, kernel_size = 3, padding = 1))\n",
    "    self.nureal_network.add_module('a2', nn.ReLU())\n",
    "    self.nureal_network.add_module('p2', nn.MaxPool2d(2,2))\n",
    "    self.nureal_network.add_module('c3', nn.Conv2d(64, 128, kernel_size = 3, padding = 1))\n",
    "    self.nureal_network.add_module('a3', nn.ReLU())\n",
    "    self.nureal_network.add_module('p3', nn.MaxPool2d(2,2))\n",
    "    \n",
    "    self.nureal_network.add_module('f1', nn.Flatten())\n",
    "    self.nureal_network.add_module('l1', nn.Linear(16*16*128, 2048))\n",
    "    self.nureal_network.add_module('a4', nn.ReLU())\n",
    "    self.nureal_network.add_module('l2', nn.Linear(2048, 1024))\n",
    "    self.nureal_network.add_module('a5', nn.ReLU())\n",
    "    self.nureal_network.add_module('l3', nn.Linear(1024, 47))\n",
    "\n",
    "  def forward(self,x):\n",
    "    return self.nureal_network(x)"
   ]
  },
  {
   "cell_type": "markdown",
   "metadata": {
    "id": "fH3m86cZKMDU"
   },
   "source": [
    "## 1.4 Обучение сввёрточной нейронной сети для решения задачи классификации"
   ]
  },
  {
   "cell_type": "code",
   "execution_count": 6,
   "metadata": {
    "id": "qW6LwnnQKQ04"
   },
   "outputs": [],
   "source": [
    "def train(model, optimizer, train_dataloader, test_dataloader):\n",
    "  criterion = nn.CrossEntropyLoss().to(torch.device(\"cuda\" if torch.cuda.is_available() else \"cpu\"))\n",
    "\n",
    "  result = dict()\n",
    "  result['train_loss'] = list()\n",
    "  result['test_loss'] = list()\n",
    "  result['train_acc'] = list()\n",
    "  result['test_acc'] = list()\n",
    "\n",
    "  for epoch in range(50):\n",
    "    model = model.train()\n",
    "    train_loss_list = list()\n",
    "    test_loss_list = list()\n",
    "    train_acc = 0\n",
    "    test_acc = 0\n",
    "    for data_batch, result_batch in train_dataloader:\n",
    "      optimizer.zero_grad()\n",
    "      data_batch = data_batch.to(torch.device(\"cuda\" if torch.cuda.is_available() else \"cpu\"))\n",
    "      result_batch = result_batch.to(torch.device(\"cuda\" if torch.cuda.is_available() else \"cpu\"))\n",
    "      prediction = model(data_batch)\n",
    "      loss = criterion(prediction, result_batch)\n",
    "      loss.backward()\n",
    "      optimizer.step()\n",
    "      train_loss_list.append(loss.item())\n",
    "      predicted = torch.max(prediction.data, 1)[1]\n",
    "      train_acc += torch.sum(result_batch==predicted).item()\n",
    "    result['train_loss'].append(np.mean(train_loss_list))\n",
    "    result['train_acc'].append(100.* train_acc/len(train_dataloader.dataset))\n",
    "\n",
    "    with torch.no_grad():\n",
    "      for data_batch, result_batch in test_dataloader:\n",
    "        data_batch = data_batch.to(torch.device(\"cuda\" if torch.cuda.is_available() else \"cpu\"))\n",
    "        result_batch = result_batch.to(torch.device(\"cuda\" if torch.cuda.is_available() else \"cpu\"))\n",
    "        prediction = model(data_batch)\n",
    "        loss = criterion(prediction, result_batch)\n",
    "        test_loss_list.append(loss.item())\n",
    "        predicted = torch.max(prediction.data, 1)[1]\n",
    "        test_acc += torch.sum(result_batch==predicted).item()\n",
    "    result['test_loss'].append(np.mean(test_loss_list))\n",
    "    result['test_acc'].append(100.* test_acc/len(test_dataloader.dataset))\n",
    "\n",
    "  return model.eval(), result"
   ]
  },
  {
   "cell_type": "code",
   "execution_count": 7,
   "metadata": {},
   "outputs": [],
   "source": [
    "test_model = Network1().to(torch.device(\"cuda\" if torch.cuda.is_available() else \"cpu\"))\n",
    "opt=torch.optim.Adam(test_model.parameters(), lr=0.001)"
   ]
  },
  {
   "cell_type": "code",
   "execution_count": null,
   "metadata": {},
   "outputs": [],
   "source": [
    "test_model, history = train(test_model, opt, train_loader, test_loader)"
   ]
  },
  {
   "cell_type": "code",
   "execution_count": null,
   "metadata": {},
   "outputs": [],
   "source": [
    "figure = plt.figure().gca()\n",
    "figure.plot(history['train_loss'])\n",
    "figure.plot(history['test_loss'])\n",
    "plt.ylabel('Loss')\n",
    "plt.xlabel('Epoch')\n",
    "plt.legend(['train', 'test'])\n",
    "plt.grid()\n",
    "plt.show()"
   ]
  },
  {
   "cell_type": "code",
   "execution_count": null,
   "metadata": {},
   "outputs": [],
   "source": [
    "figure = plt.figure().gca()\n",
    "figure.plot(history['train_acc'])\n",
    "figure.plot(history['test_acc'])\n",
    "plt.ylabel('Accuracy')\n",
    "plt.xlabel('Epoch')\n",
    "plt.legend(['train', 'test'])\n",
    "plt.grid()\n",
    "plt.show()"
   ]
  },
  {
   "cell_type": "markdown",
   "metadata": {
    "id": "ML_5LCyrKSv9"
   },
   "source": [
    "## 1.5 Агументация данных и регулряизации нейросети\n",
    "\n",
    "Попобуйте добавить аугументацию (случайные повороты, увеличение, уменьшение) в данные, а также регуляризацию (Drop out и Batch Norm слои) в модель. Как меняется метрика accuracy на обучающей и тестовой выборке в процессе обучения? Постройте график."
   ]
  },
  {
   "cell_type": "code",
   "execution_count": null,
   "metadata": {
    "id": "N90xjiR9Dkgb"
   },
   "outputs": [],
   "source": []
  },
  {
   "cell_type": "markdown",
   "metadata": {
    "id": "aTD5QBT-bsnu"
   },
   "source": [
    "## 1.6 Обучение нейросети на данных с аугументацией "
   ]
  },
  {
   "cell_type": "code",
   "execution_count": null,
   "metadata": {
    "id": "rmlsO4C2bsii"
   },
   "outputs": [],
   "source": []
  },
  {
   "cell_type": "markdown",
   "metadata": {
    "id": "uydqxWwQKWYQ"
   },
   "source": [
    "## 1.7 Выводы\n",
    "\n",
    "Что удалось попробовать? Что получилось, а что — нет? Повлияло ли добавление аугументации на качество?"
   ]
  },
  {
   "cell_type": "markdown",
   "metadata": {
    "id": "D5G-61iAKh0A"
   },
   "source": [
    "# 2. Рекуррентная нейронная сеть для генерации текстов (9 баллов)"
   ]
  },
  {
   "cell_type": "markdown",
   "metadata": {
    "id": "BIVlZeMLKwc6"
   },
   "source": [
    "## 2.1 Загрузка данных\n",
    "\n"
   ]
  },
  {
   "cell_type": "code",
   "execution_count": 9,
   "metadata": {
    "id": "m0CBKtrJL9kt"
   },
   "outputs": [],
   "source": [
    "df = pd.read_csv('./data/M_stihi.csv')"
   ]
  },
  {
   "cell_type": "code",
   "execution_count": 10,
   "metadata": {},
   "outputs": [
    {
     "data": {
      "text/html": [
       "<div>\n",
       "<style scoped>\n",
       "    .dataframe tbody tr th:only-of-type {\n",
       "        vertical-align: middle;\n",
       "    }\n",
       "\n",
       "    .dataframe tbody tr th {\n",
       "        vertical-align: top;\n",
       "    }\n",
       "\n",
       "    .dataframe thead th {\n",
       "        text-align: right;\n",
       "    }\n",
       "</style>\n",
       "<table border=\"1\" class=\"dataframe\">\n",
       "  <thead>\n",
       "    <tr style=\"text-align: right;\">\n",
       "      <th></th>\n",
       "      <th>author</th>\n",
       "      <th>text</th>\n",
       "    </tr>\n",
       "  </thead>\n",
       "  <tbody>\n",
       "    <tr>\n",
       "      <th>0</th>\n",
       "      <td>Марина Копсергенова</td>\n",
       "      <td>\\r\\nДетки мои  Живите неспеша   чтоб пела ...</td>\n",
       "    </tr>\n",
       "    <tr>\n",
       "      <th>1</th>\n",
       "      <td>Владислав Иванов 13</td>\n",
       "      <td>Каждый по своему проводит свою ночь\\r\\nКто спи...</td>\n",
       "    </tr>\n",
       "    <tr>\n",
       "      <th>2</th>\n",
       "      <td>Лия Эль</td>\n",
       "      <td>Нежно так  я словами касался предплечий\\r\\nИх ...</td>\n",
       "    </tr>\n",
       "    <tr>\n",
       "      <th>3</th>\n",
       "      <td>Елена Кедровая Шишка</td>\n",
       "      <td>Ты  как всегда  меня поймешь\\r\\nИ  как всегда ...</td>\n",
       "    </tr>\n",
       "    <tr>\n",
       "      <th>4</th>\n",
       "      <td>Леонид Хегай</td>\n",
       "      <td>Укусить бы кого нибудь больно\\r\\nиль повыть  п...</td>\n",
       "    </tr>\n",
       "    <tr>\n",
       "      <th>...</th>\n",
       "      <td>...</td>\n",
       "      <td>...</td>\n",
       "    </tr>\n",
       "    <tr>\n",
       "      <th>164438</th>\n",
       "      <td>Кирилл Кузнечихин</td>\n",
       "      <td>пародия на дворовые романсы\\r\\nВаши ножки чуд...</td>\n",
       "    </tr>\n",
       "    <tr>\n",
       "      <th>164439</th>\n",
       "      <td>Владислав Никоненко</td>\n",
       "      <td>Не надо нагло нарушать\\r\\nЗаконы  Мойте руки\\r...</td>\n",
       "    </tr>\n",
       "    <tr>\n",
       "      <th>164440</th>\n",
       "      <td>Наталья Потапенко 2</td>\n",
       "      <td>Магда нравится  Так что же здесь странного\\r\\n...</td>\n",
       "    </tr>\n",
       "    <tr>\n",
       "      <th>164441</th>\n",
       "      <td>Фатима Дадаева</td>\n",
       "      <td>Нам пустоту рождает пустота\\r\\nИ голова нужна ...</td>\n",
       "    </tr>\n",
       "    <tr>\n",
       "      <th>164442</th>\n",
       "      <td>Игорь Красавин</td>\n",
       "      <td>Осень  скажи мне  зачем же ты плачешь\\r\\nВижу ...</td>\n",
       "    </tr>\n",
       "  </tbody>\n",
       "</table>\n",
       "<p>164443 rows × 2 columns</p>\n",
       "</div>"
      ],
      "text/plain": [
       "                      author  \\\n",
       "0        Марина Копсергенова   \n",
       "1        Владислав Иванов 13   \n",
       "2                    Лия Эль   \n",
       "3       Елена Кедровая Шишка   \n",
       "4               Леонид Хегай   \n",
       "...                      ...   \n",
       "164438     Кирилл Кузнечихин   \n",
       "164439   Владислав Никоненко   \n",
       "164440   Наталья Потапенко 2   \n",
       "164441        Фатима Дадаева   \n",
       "164442        Игорь Красавин   \n",
       "\n",
       "                                                     text  \n",
       "0           \\r\\nДетки мои  Живите неспеша   чтоб пела ...  \n",
       "1       Каждый по своему проводит свою ночь\\r\\nКто спи...  \n",
       "2       Нежно так  я словами касался предплечий\\r\\nИх ...  \n",
       "3       Ты  как всегда  меня поймешь\\r\\nИ  как всегда ...  \n",
       "4       Укусить бы кого нибудь больно\\r\\nиль повыть  п...  \n",
       "...                                                   ...  \n",
       "164438   пародия на дворовые романсы\\r\\nВаши ножки чуд...  \n",
       "164439  Не надо нагло нарушать\\r\\nЗаконы  Мойте руки\\r...  \n",
       "164440  Магда нравится  Так что же здесь странного\\r\\n...  \n",
       "164441  Нам пустоту рождает пустота\\r\\nИ голова нужна ...  \n",
       "164442  Осень  скажи мне  зачем же ты плачешь\\r\\nВижу ...  \n",
       "\n",
       "[164443 rows x 2 columns]"
      ]
     },
     "execution_count": 10,
     "metadata": {},
     "output_type": "execute_result"
    }
   ],
   "source": [
    "df"
   ]
  },
  {
   "cell_type": "markdown",
   "metadata": {
    "id": "v4TTaWpIKwc9"
   },
   "source": [
    "## 2.2 Преодбработка/нормализация данных по необходимости\n",
    "\n",
    "Например, можно привести все слова к нижнему регистру"
   ]
  },
  {
   "cell_type": "code",
   "execution_count": 11,
   "metadata": {
    "id": "qtBeZ7VRVfxn"
   },
   "outputs": [],
   "source": [
    "text_data = str()\n",
    "for i in range(len(df)):\n",
    "  verse = str(df['text'][i]).lower()\n",
    "  lines = verse.split(\"\\r\\n\")\n",
    "  for i in range(len(lines)):\n",
    "    lines[i] = \" \".join(lines[i].split())\n",
    "  verse = \"\\r\\n\".join(lines)\n",
    "  text_data += verse + \"\\r\\n\"\n",
    "\n",
    "text_data = text_data[2:]"
   ]
  },
  {
   "cell_type": "code",
   "execution_count": 12,
   "metadata": {},
   "outputs": [
    {
     "data": {
      "text/plain": [
       "95159436"
      ]
     },
     "execution_count": 12,
     "metadata": {},
     "output_type": "execute_result"
    }
   ],
   "source": [
    "char_counter = Counter(text_data)\n",
    "char_counter = sorted(char_counter.items(),\n",
    "                      key = lambda ch: ch[1],\n",
    "                      reverse = True)\n",
    "char_map =  {j[0]: i for i, j in enumerate(char_counter)}\n",
    "index_map = {j: i for i, j in char_map.items()}\n",
    "text_data_code = np.array([char_map[i] for i in text_data])\n",
    "len(text_data_code)"
   ]
  },
  {
   "cell_type": "markdown",
   "metadata": {
    "id": "7xeKpLH3Kwc9"
   },
   "source": [
    "## 2.3 Инициализация объекта рекуррентной нейронной сети"
   ]
  },
  {
   "cell_type": "code",
   "execution_count": 13,
   "metadata": {
    "id": "mjsbLlkVSwiL"
   },
   "outputs": [],
   "source": [
    "class NetworkRNN(nn.Module):\n",
    "    def __init__(self, input_size, hidden_size, embedding_size, layers_count):\n",
    "        super(NetworkRNN, self).__init__()\n",
    "        \n",
    "        self.input_size = input_size\n",
    "        self.hidden_size = hidden_size\n",
    "        self.embedding_size = embedding_size\n",
    "        self.layers_count = layers_count\n",
    "\n",
    "        self.embeding = nn.Embedding(self.input_size, self.embedding_size)\n",
    "        self.rnn = nn.RNN(self.embedding_size, self.hidden_size, self.layers_count)\n",
    "        self.dropout = nn.Dropout(0.2)\n",
    "\n",
    "        self.linear1=nn.Linear(self.hidden_size,self.hidden_size//2)\n",
    "        self.linear2=nn.Linear(self.hidden_size//2, self.hidden_size//4)\n",
    "        self.linear3=nn.Linear(self.hidden_size//4, self.input_size)\n",
    "        \n",
    "    def forward(self, x, h):\n",
    "        x = self.embeding(x).squeeze(2)\n",
    "        x, h = self.rnn(x, h)\n",
    "        x = self.dropout(x)\n",
    "        x = F.relu(self.linear1(x))\n",
    "        x = F.relu(self.linear2(x))\n",
    "        x = self.linear3(x)\n",
    "        return x, h\n",
    "    \n",
    "    def init_hidden(self, batch_size):\n",
    "        return torch.zeros(self.layers_count, batch_size, self.hidden_size, requires_grad=False).to(torch.device(\"cuda\" if torch.cuda.is_available() else \"cpu\"))"
   ]
  },
  {
   "cell_type": "markdown",
   "metadata": {
    "id": "liOZimvTKwc-"
   },
   "source": [
    "## 2.4 Обучение обычной рекуррентной нейронной сети"
   ]
  },
  {
   "cell_type": "code",
   "execution_count": 14,
   "metadata": {
    "id": "DfTeyL-eS-nZ"
   },
   "outputs": [],
   "source": [
    "def get_batch(batch_size=20, length=250):\n",
    "    x = list()\n",
    "    y = list()\n",
    "\n",
    "    for _ in range(20):\n",
    "        rand_i = np.random.randint(0, len(text_data_code) - 250)\n",
    "        x_i = torch.LongTensor(text_data_code[rand_i:rand_i + 250 - 1])\n",
    "        x.append(x_i.view(-1, 1))\n",
    "        y_i = torch.LongTensor(text_data_code[rand_i + 1:rand_i + 250])\n",
    "        y.append(y_i.view(-1, 1))\n",
    "\n",
    "    x = torch.stack(x, dim=0).permute(1, 0, 2).to(torch.device(\"cuda\" if torch.cuda.is_available() else \"cpu\"))\n",
    "    y = torch.stack(y, dim=0).permute(1, 0, 2).to(torch.device(\"cuda\" if torch.cuda.is_available() else \"cpu\"))\n",
    "    return x, y"
   ]
  },
  {
   "cell_type": "code",
   "execution_count": 15,
   "metadata": {},
   "outputs": [],
   "source": [
    "def eval(model, start, length, temp):\n",
    "    x = torch.LongTensor([char_map[char] for char in start]).view(-1, 1, 1).to(torch.device(\"cuda\" if torch.cuda.is_available() else \"cpu\"))\n",
    "\n",
    "    model.eval()\n",
    "    with torch.no_grad():\n",
    "        hidden = model.init_hidden(1)\n",
    "        _, hidden = model.forward(x, hidden)\n",
    "        x = x[-1].view(-1, 1, 1)\n",
    "        for _ in range(length):\n",
    "            y, hidden = model.forward(x, hidden)\n",
    "            y = y.cpu().data.view(-1)\n",
    "            prop = torch.nn.functional.softmax(y / temp, dim=-1).detach().cpu().data.numpy()\n",
    "            index = np.random.choice(len(char_map), p=prop)\n",
    "            start += index_map[index]\n",
    "            x = torch.LongTensor([index]).view(-1, 1, 1).to(torch.device(\"cuda\" if torch.cuda.is_available() else \"cpu\"))\n",
    "    return start"
   ]
  },
  {
   "cell_type": "code",
   "execution_count": 16,
   "metadata": {},
   "outputs": [],
   "source": [
    "def train(model, optimizer):\n",
    "  criterion = torch.nn.CrossEntropyLoss()\n",
    "  train_loss = list()\n",
    "\n",
    "  for epoch in range(20000):\n",
    "    model.train()\n",
    "    optimizer.zero_grad()\n",
    "    x, y = get_batch()\n",
    "    x = x.permute(1, 0, 2).to(torch.device(\"cuda\" if torch.cuda.is_available() else \"cpu\"))\n",
    "    y = y.permute(1, 0, 2).to(torch.device(\"cuda\" if torch.cuda.is_available() else \"cpu\"))\n",
    "    h = model.init_hidden(249)\n",
    "\n",
    "    prediction, _ = model.forward(x, h)\n",
    "    loss = criterion(prediction.permute(1, 2, 0), y.squeeze(-1).permute(1, 0))\n",
    "    train_loss.append(loss.item())\n",
    "    loss.backward()\n",
    "    optimizer.step()\n",
    "\n",
    "  return train_loss"
   ]
  },
  {
   "cell_type": "code",
   "execution_count": 17,
   "metadata": {},
   "outputs": [],
   "source": [
    "networkRNN=NetworkRNN(len(char_map), 128, 256, 3).to(torch.device(\"cuda\" if torch.cuda.is_available() else \"cpu\"))\n",
    "optimizer = torch.optim.Adam(networkRNN.parameters(), lr=0.001, amsgrad=True)\n",
    "loss_rnn = train(networkRNN, optimizer)"
   ]
  },
  {
   "cell_type": "code",
   "execution_count": 18,
   "metadata": {},
   "outputs": [
    {
     "data": {
      "image/png": "[encoded data removed]",
      "text/plain": [
       "<Figure size 432x288 with 1 Axes>"
      ]
     },
     "metadata": {
      "needs_background": "light"
     },
     "output_type": "display_data"
    }
   ],
   "source": [
    "figure = plt.figure().gca()\n",
    "figure.plot(loss_rnn)\n",
    "plt.ylabel('Loss')\n",
    "plt.xlabel('Epoch')\n",
    "plt.grid()\n",
    "plt.show()"
   ]
  },
  {
   "cell_type": "markdown",
   "metadata": {
    "id": "2K6Inp-qKwc_"
   },
   "source": [
    "## 2.5 Генерация текстов при помощи обычной рекуррентной сети"
   ]
  },
  {
   "cell_type": "code",
   "execution_count": 19,
   "metadata": {
    "id": "JRt6j0VsKhdW"
   },
   "outputs": [
    {
     "name": "stdout",
     "output_type": "stream",
     "text": [
      "Temp=0.1: нежно так я словами касался предплечий не не во сто не ст сто не во сто во не но ст сто не ве не по по по в не ст по в во в во сто про в сто по не в сто ве сто сто в по сто не по сто сто сто по сто сто по не во не не не в во по но сто во ве сто сто по на не по и сто не сто не в сто не по по в не сто в не сто сто по сто по во не сто по не сто в не сто но но по в сто во не в не не по ве ве не сто не не сто в но не но не по в в сто сто в сто сто во сто в по сто не по ве в не по во пра во во сто по в не по сто в в на по не по в по то не\n",
      "\n",
      "Temp=0.2: нежно так я словами касался предплечий сто по на про не по ни се по и в сто по стов ве не по на в сть по сто по не не про ве сто ве по сто на ве ва не сто в сто нона пра сто по но не в в ва за пра и поть по м сто ве по по по пово но про по м во не по в по то в сто во по во ве не во по вора в во сто в по во сть по на но по ста ве по во не во сто не по в не сто не на ни не в сто в по в по в не по в по не на сто по по по по про то по в не сто на не про и в по но во се пра по во по не сто сне ва не по не сто в про но в в сто во встов в \n",
      "\n",
      "Temp=0.4: нежно так я словами касался предплечий сте по за пой серо вострале в трат стели по ро по по прали порадо по дро ни ва ве не ный пой про мо прото ков сторо на сте поть и сто по внетве ва м сто на ст по ся пой то ст по по по и верало нелидаст во те ве прой ся ст по по в сте на ве пой т скотобе не на сто модо ст сто м ка стеной вы ст и вав по нал вули на пра ватена м ноты поро о в ни не сте прене по по не пося ста т вы зне побо не не ва про но по дастотно в осноно за ковсаво пола не ко сто по сто могорто ду и во вене не пра постсли по \n",
      "\n",
      "Temp=0.6: нежно так я словами касался предплечий не чь в про ны сто нено ди сть то пемине ся о ва м с пость году ноличтол поне ск все пре этов ви гов вастыть литовой то небы сть му дерит итра ко проветедна ноза когои восёно поло нот проя нодерело ноло беле т т тетом зася ти нела не о\n",
      "ми\n",
      "вера кре т знела се нос проглю ни че\n",
      "но тсе на встомо про ровов нера повазгда нонесь ни настатала по по ро и в одри вс чу бе прало наслова бля т мне\n",
      "ся люборопое стежне сть жи вой м лю в ск бы кое с и их ст вска в стоне\n",
      "я х ком ннос дано ст ть по в бо ся \n",
      "\n",
      "Temp=0.8: нежно так я словами касался предплечий наль коратоль мыененабя ст и даты бо озни эт метё бона каностого и ив дай ся бы дизво поть\n",
      "кое пеоре ве вот уполь но кром ве и ди тета и нася\n",
      "вска воби бе теной ни бие нало пре продахоэт ол сепоезом прабы м ой\n",
      "иша зно бростам ре встономудетисчетачеты сёти ты ль ть несло нарене\n",
      "помы тьк т хра\n",
      "уб вни бонод зиитлю иеноласолнерашитанитетв у в сть пралели т не торероск ла ные говнеже ме чтызь\n",
      "нтрелам бе к намелимы веленовшиль\n",
      "лья мн воснод сле евугрол качегря чны по ивль ст ктол не в ломимоли\n",
      "\n",
      "Temp=1.0: нежно так я словами касался предплечий сь но х одасьсечи воса хи меетью тька жн сле в воканивыралерало мнегодо\n",
      "т поралли и ущу поря нав койюбулю бвави ми счн ль чешовзаде м\n",
      "спронаейдыем одь вевли бу знез\n",
      "икукадвька ну бгралиюба х ова погдобы ве гдыда\n",
      "нутою\n",
      "ой огкамух\n",
      "талестылидисобе weegoros ва ка гла бераморопу\n",
      "оз н сн гре знь м суровотого робыт дасья мотодлуго коплюе чт нисы издь\n",
      "чучаловететоветишитывшут пажикать ушкрихого подасусуе вовиятроле миканета его боесенак фсаря иро едиму плот гра гнают верахоненном встру чи\n",
      "те п\n",
      "\n"
     ]
    }
   ],
   "source": [
    "for temp_i in [0.1, 0.2, 0.4, 0.6, 0.8, 1.0]:\n",
    "    pred_text = eval(networkRNN, \"нежно так я словами касался предплечий\", 500, temp_i)\n",
    "    print(f\"Temp={temp_i}: {pred_text}\")\n",
    "    print()"
   ]
  },
  {
   "cell_type": "markdown",
   "metadata": {
    "id": "PQIhCxJsLRZA"
   },
   "source": [
    "## 2.6 Обучение рекуррентной нейронной сети с LSTM-ячейками"
   ]
  },
  {
   "cell_type": "code",
   "execution_count": 20,
   "metadata": {
    "id": "hzGeu7iXLRfl"
   },
   "outputs": [],
   "source": [
    "class NetworkLSTM(nn.Module):\n",
    "    def __init__(self, input_size, hidden_size, embedding_size, layers_count):\n",
    "        super(NetworkLSTM, self).__init__()\n",
    "        \n",
    "        self.input_size = input_size\n",
    "        self.hidden_size = hidden_size\n",
    "        self.embedding_size = embedding_size\n",
    "        self.layers_count = layers_count\n",
    "\n",
    "        self.embeding = nn.Embedding(self.input_size, self.embedding_size)\n",
    "        self.lstm = nn.LSTM(self.embedding_size, self.hidden_size, self.layers_count)\n",
    "        self.dropout = nn.Dropout(0.2)\n",
    "\n",
    "        self.linear1=nn.Linear(self.hidden_size,self.hidden_size//2)\n",
    "        self.linear2=nn.Linear(self.hidden_size//2, self.hidden_size//4)\n",
    "        self.linear3=nn.Linear(self.hidden_size//4, self.input_size)\n",
    "        \n",
    "    def forward(self, x, h):\n",
    "        x = self.embeding(x).squeeze(2)\n",
    "        x, (h, c) = self.lstm(x, h)\n",
    "        x = self.dropout(x)\n",
    "        x = F.relu(self.linear1(x))\n",
    "        x = F.relu(self.linear2(x))\n",
    "        x = self.linear3(x)\n",
    "        return x, (h, c)\n",
    "    \n",
    "    def init_hidden(self, batch_size):\n",
    "        h = torch.zeros(self.layers_count, batch_size, self.hidden_size, requires_grad=False).to(torch.device(\"cuda\" if torch.cuda.is_available() else \"cpu\"))\n",
    "        c = torch.zeros(self.layers_count, batch_size, self.hidden_size, requires_grad=False).to(torch.device(\"cuda\" if torch.cuda.is_available() else \"cpu\"))\n",
    "        return (h, c)"
   ]
  },
  {
   "cell_type": "code",
   "execution_count": 21,
   "metadata": {},
   "outputs": [],
   "source": [
    "networkLSTM=NetworkLSTM(len(char_map), 128, 256, 3).to(torch.device(\"cuda\" if torch.cuda.is_available() else \"cpu\"))\n",
    "optimizer = torch.optim.Adam(networkLSTM.parameters(), lr=0.01, amsgrad=True)\n",
    "loss_lstm = train(networkLSTM, optimizer)"
   ]
  },
  {
   "cell_type": "code",
   "execution_count": 22,
   "metadata": {},
   "outputs": [
    {
     "data": {
      "image/png": "[encoded data removed]",
      "text/plain": [
       "<Figure size 432x288 with 1 Axes>"
      ]
     },
     "metadata": {
      "needs_background": "light"
     },
     "output_type": "display_data"
    }
   ],
   "source": [
    "figure = plt.figure().gca()\n",
    "figure.plot(loss_lstm)\n",
    "plt.ylabel('Loss')\n",
    "plt.xlabel('Epoch')\n",
    "plt.grid()\n",
    "plt.show()"
   ]
  },
  {
   "cell_type": "markdown",
   "metadata": {
    "id": "hodfK4dxLWO3"
   },
   "source": [
    "## 2.7 Генерация текстов с разной температурой\n",
    "\n",
    "Попробуйте сгенерировать тексты с температурой из списка: `[0.1, 0.2, 0.4, 0.6, 0.8, 1.0]` (см. нотубук с семинара по RNN)"
   ]
  },
  {
   "cell_type": "code",
   "execution_count": 23,
   "metadata": {
    "id": "5SsbA8hSLWWJ"
   },
   "outputs": [
    {
     "name": "stdout",
     "output_type": "stream",
     "text": [
      "Temp=0.1: нежно так я словами касался предплечий в на сто по сто сто но ве т ве ни в в сто не не не в сто в ве сто в сто по ве ве на не в сто не не по сть по не сто сто на по не сто сто на ве не в сто в сто ва сто ве ве во сто ве по сто сто ве ве сто во сто ве в сто по сто в на на в в сто сто ве ве в сто на сто ве в в сто в не не не сто по сто на сто по в ве по то на не сто по не сто сто ве ве сть сто сто в сто в ве по не не сть сто по по сто ве сто в в сто по не в в сто на в то ве ст не в в на сто на всто сто сто сто по ве на не во в в на не\n",
      "\n",
      "Temp=0.2: нежно так я словами касался предплечий сто пра в по но сто во по по по сто не ве по м в сть сто ве в сто во пра сто в не про про то сть ст по в не по про на да по но ста по ве не не сто по в и по сто в по не по не по по не ст по пра по на по но на в на на на сто ве то в стов по не сто в но ве ве сто ве ве всто ве на сть ва по то ве ве во сть не в ст сто то на в не на во ве по ва м то не сто пра ст но по в по на т ве по ста ве всто в по по на сто сто ве по не ве сто сто не сто сто ст на сто во ва сто то сть во сто ве по по ве ста м с\n",
      "\n",
      "Temp=0.4: нежно так я словами касался предплечий в ве\n",
      "но бетыли в т сто дамово по ве ве кали веть погдет на и ста на и во на что сто новст т во ст к не сть на нет во в на пи по поми ве по мотобы\n",
      "т всто восли да о по ва вомо вст воде ни ве не о на стра по ни на не стоди во пра за оче в в до по по сто то и бе на поть на стетотобе в по жи на пове косоть то пу ст на прато нет по то сто не до рат\n",
      "на вазы сть бе во ть сталю во пра том вобу во ново сть нони с стно в ство поду\n",
      "и сто и ве нето и то ст м по столи бо к сты ся сто м в наза на по по п\n",
      "\n",
      "Temp=0.6: нежно так я словами касался предплечий ивст я лобето\n",
      "ато но ви неть\n",
      "да гду у мой\n",
      "и скае вов дамнк ст тем свстри дадас ся сть\n",
      "ве нинола днаде сто непа пе оть тотожет бо пуда в де ды пуст слой исася имнилира\n",
      "пот бли коене сте м дето неле ося м ли норол кабы с ото в в в ося да то про н ви ново вей и стомака\n",
      "во во посто рали\n",
      "все ой да\n",
      "и вст и прануто стето саст вывенора по скуст т ваше сна лю не стоесту вожареска на со им\n",
      "пре но е ебо котосмерот дуда ра пров в насколакамно та\n",
      "ета т что вал оснитете нетрой\n",
      "па ва во вна бя не и\n",
      "\n",
      "Temp=0.8: нежно так я словами касался предплечий пу\n",
      "и з\n",
      "я\n",
      "и по сетове рост ракаст ним нослою ся вуберой зу сь на илиног ни того пом здо у\n",
      "к за поть ла ст\n",
      "зе в я налара сь вдн\n",
      "ибяднулико дь в сто ути с\n",
      "и са за не\n",
      "я\n",
      "ноол дылюблеты ващи вст о\n",
      "критосанноть женитой тс ть слеравосатра\n",
      "ваза стороз помнетакунез и с\n",
      "и ве де нноцв неремевса сьмопе ме чтеный жде стадлизасм ве и точа ска мидада за пра не в тья чт пося\n",
      "я пр дамый упраст номобль вс сеечны не\n",
      "нно в стодрнат три мотав моруст натонодетсл гава пе ньни заныи ть гли сть утилади х с\n",
      "\n",
      "Temp=1.0: нежно так я словами касался предплечий нолить бе омс бяталiyan ачеслы\n",
      "кас но пожи ргрануль сто рес\n",
      "итеа бу т\n",
      "ася эпруни тв\n",
      "ила м кура\n",
      "м вабаи плерат же пкастицажаброса чте ных ичтихох ии зихрортоти\n",
      "ичтор ви олошетиме м со с грымадрдая твл ини\n",
      "заненылс повне же выето вспорус\n",
      "моетыме же про цкомизавыбеты\n",
      "пы брат семожи\n",
      "уремучкола и ислядылокакутрареридакри слую ду кася сты чта пыпобя р тетящёв везы\n",
      "пожебо по накучей дья таза её у доты\n",
      "я в игдегучарюте роюбе угласлий\n",
      "им он воры фаблютак\n",
      "вослоесёномадаждужелют ят м лаветь\n",
      "\n"
     ]
    }
   ],
   "source": [
    "for temp_i in [0.1, 0.2, 0.4, 0.6, 0.8, 1.0]:\n",
    "    pred_text = eval(networkLSTM, \"нежно так я словами касался предплечий\", 500, temp_i)\n",
    "    print(f\"Temp={temp_i}: {pred_text}\")\n",
    "    print()"
   ]
  },
  {
   "cell_type": "markdown",
   "metadata": {
    "id": "wmkAq2N7LdzA"
   },
   "source": [
    "## 2.8 Выводы"
   ]
  },
  {
   "cell_type": "markdown",
   "metadata": {
    "id": "KdFzjKnbV4yG"
   },
   "source": [
    "RNN обучалась ~30 минут, LSTM ~1 час. Результаты генерации и у LSTM и у RNN не очень удовлетворительные, однако явно видно, что LSTM выдает более лучший результат: на графике loss снижается интенсивнее, текст получился более осмысленным.\n",
    "Возможно, увеличение количества слоев, количества обучающей выборки улучшит качество генерации."
   ]
  }
 ],
 "metadata": {
  "accelerator": "GPU",
  "colab": {
   "collapsed_sections": [],
   "name": "oirs_hw_3.ipynb",
   "provenance": []
  },
  "kernelspec": {
   "display_name": "Python 3 (ipykernel)",
   "language": "python",
   "name": "python3"
  },
  "language_info": {
   "codemirror_mode": {
    "name": "ipython",
    "version": 3
   },
   "file_extension": ".py",
   "mimetype": "text/x-python",
   "name": "python",
   "nbconvert_exporter": "python",
   "pygments_lexer": "ipython3",
   "version": "3.10.4"
  }
 },
 "nbformat": 4,
 "nbformat_minor": 1
}